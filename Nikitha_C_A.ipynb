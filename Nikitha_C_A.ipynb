{
  "nbformat": 4,
  "nbformat_minor": 0,
  "metadata": {
    "colab": {
      "provenance": []
    },
    "kernelspec": {
      "name": "python3",
      "display_name": "Python 3"
    },
    "language_info": {
      "name": "python"
    }
  },
  "cells": [
    {
      "cell_type": "markdown",
      "source": [
        "1.Write a program to create a function show_employee() using the following conditions.\n",
        "●\tIt should accept the employee’s name and salary and display both.\n",
        "●\tIf the salary is missing in the function call then assign default value 9000 to salary\n"
      ],
      "metadata": {
        "id": "e37BMvZ8W-ug"
      }
    },
    {
      "cell_type": "code",
      "execution_count": 4,
      "metadata": {
        "id": "oRtIg8VtWmLU",
        "colab": {
          "base_uri": "https://localhost:8080/"
        },
        "outputId": "f4bad204-3f9e-466a-ba0a-082dfeab8b98"
      },
      "outputs": [
        {
          "output_type": "stream",
          "name": "stdout",
          "text": [
            "Employee Name: Ben\n",
            "Employee Salary: 15000\n",
            "Employee Name: Nisha\n",
            "Employee Salary: 9000\n"
          ]
        }
      ],
      "source": [
        "def show_employee(name,salary=9000):\n",
        "  print(\"Employee Name:\",name)\n",
        "  print(\"Employee Salary:\",salary)\n",
        "\n",
        "show_employee(\"Ben\",15000)\n",
        "show_employee(\"Nisha\")"
      ]
    },
    {
      "cell_type": "markdown",
      "source": [
        "2: Create an inner function to calculate the addition in the following way.\n",
        "Create an outer function that will accept two parameters, a and b\n",
        "Create an inner function inside an outer function that will calculate the addition of a and b.\n",
        "At last, an outer function will add 5 into addition and return it.\n"
      ],
      "metadata": {
        "id": "C7m7mX8wzLD0"
      }
    },
    {
      "cell_type": "code",
      "source": [
        "def outer_fun(a, b):\n",
        "    def addition(a, b):\n",
        "        return a + b\n",
        "    add = addition(a, b)\n",
        "    return add + 5\n",
        "\n",
        "result = outer_fun(5, 5)\n",
        "print(result)"
      ],
      "metadata": {
        "colab": {
          "base_uri": "https://localhost:8080/"
        },
        "id": "pa_gnmlxzR9H",
        "outputId": "f0722c11-fdc7-4ef3-e38a-5895d4dd167d"
      },
      "execution_count": 6,
      "outputs": [
        {
          "output_type": "stream",
          "name": "stdout",
          "text": [
            "15\n"
          ]
        }
      ]
    },
    {
      "cell_type": "markdown",
      "source": [
        "3: Generate a Python list of all the even numbers between 4 to 30\n"
      ],
      "metadata": {
        "id": "YVCjcgEk01ab"
      }
    },
    {
      "cell_type": "code",
      "source": [
        "list(range(4,30,2))"
      ],
      "metadata": {
        "colab": {
          "base_uri": "https://localhost:8080/"
        },
        "id": "9MvKWjTI08UP",
        "outputId": "6dbc5038-316e-4e14-89cd-c771e2b2fa97"
      },
      "execution_count": 7,
      "outputs": [
        {
          "output_type": "execute_result",
          "data": {
            "text/plain": [
              "[4, 6, 8, 10, 12, 14, 16, 18, 20, 22, 24, 26, 28]"
            ]
          },
          "metadata": {},
          "execution_count": 7
        }
      ]
    },
    {
      "cell_type": "markdown",
      "source": [
        "4.Given a list, the task is to write a Python program to check if the value exists in the list or not using the lambda function.\n",
        "\n",
        "\n",
        "Input  : L = [1, 2, 3, 4, 5]\n",
        "          element = 4\n",
        "Output :  Element is Present in the list\n",
        "\n",
        "Input :  L = [1, 2, 3, 4, 5]\n",
        "          element = 8\n",
        "Output :  Element is NOT Present in the list\n"
      ],
      "metadata": {
        "id": "4kyHbdbv2fXY"
      }
    },
    {
      "cell_type": "code",
      "source": [
        "list1 = [1,2,3,4,5]\n",
        "element = 15\n",
        "countFunc = lambda list1, element: True if element in list1 else False\n",
        "if(countFunc(list1,element)):\n",
        "\tprint(\"Elememt is present in the list\")\n",
        "else:\n",
        "\tprint(\"Elememt is not present in the list\")"
      ],
      "metadata": {
        "colab": {
          "base_uri": "https://localhost:8080/"
        },
        "id": "5p4U2jor2r6A",
        "outputId": "1072a6e4-1220-4aad-bc86-5f945536ad9f"
      },
      "execution_count": 9,
      "outputs": [
        {
          "output_type": "stream",
          "name": "stdout",
          "text": [
            "Elememt is not present in the list\n"
          ]
        }
      ]
    },
    {
      "cell_type": "markdown",
      "source": [
        "5.Sort the points based on their sum of elements in the tuples\n",
        "\n",
        "points = [(1, 2), (5, 3), (0, 7), (3, 1)]\n"
      ],
      "metadata": {
        "id": "_IntHAD14hng"
      }
    },
    {
      "cell_type": "code",
      "source": [
        "Input = [(1, 2), (5, 3), (0, 7), (3, 1)]\n",
        "\n",
        "print(\"The original list of tuple is: \")\n",
        "print(Input)\n",
        "lst = len(Input)\n",
        "\n",
        "# Bubble sort\n",
        "for i in range(lst):\n",
        "\n",
        "    for j in range(lst-i-1):\n",
        "        if (Input[j][0]+Input[j][1]) > (Input[j+1][0]+Input[j+1][1]):\n",
        "            Input[j], Input[j+1] = Input[j+1], Input[j]\n",
        "print(\"\\nThe answer is\")\n",
        "print(Input)"
      ],
      "metadata": {
        "colab": {
          "base_uri": "https://localhost:8080/"
        },
        "id": "U5VxIQO14qtA",
        "outputId": "b610e8ff-2846-414a-a859-c417ecbff922"
      },
      "execution_count": 12,
      "outputs": [
        {
          "output_type": "stream",
          "name": "stdout",
          "text": [
            "The original list of tuple is: \n",
            "[(1, 2), (5, 3), (0, 7), (3, 1)]\n",
            "\n",
            "The answer is\n",
            "[(1, 2), (3, 1), (0, 7), (5, 3)]\n"
          ]
        }
      ]
    },
    {
      "cell_type": "markdown",
      "source": [
        "6.Write a python function, which will find all such numbers between 1000 and 3000 (both included) such that each digit of the number is an even number. Return the results as a list"
      ],
      "metadata": {
        "id": "WDLCgoYO6JQD"
      }
    },
    {
      "cell_type": "code",
      "source": [
        "numbers = []\n",
        "for x in range (1000,3000):\n",
        "    numSplit = [int(d) for d in str(x)]\n",
        "    odd = False\n",
        "    for y in range (0, len(numSplit)):\n",
        "        if numSplit[y] % 2 != 0:\n",
        "            odd = True\n",
        "    if (odd == False):\n",
        "        numbers.append(x)\n",
        "print (numbers)"
      ],
      "metadata": {
        "colab": {
          "base_uri": "https://localhost:8080/"
        },
        "id": "B4HTXoY76SGP",
        "outputId": "c2fde4e8-38e9-43af-9746-624e27613a75"
      },
      "execution_count": 14,
      "outputs": [
        {
          "output_type": "stream",
          "name": "stdout",
          "text": [
            "[2000, 2002, 2004, 2006, 2008, 2020, 2022, 2024, 2026, 2028, 2040, 2042, 2044, 2046, 2048, 2060, 2062, 2064, 2066, 2068, 2080, 2082, 2084, 2086, 2088, 2200, 2202, 2204, 2206, 2208, 2220, 2222, 2224, 2226, 2228, 2240, 2242, 2244, 2246, 2248, 2260, 2262, 2264, 2266, 2268, 2280, 2282, 2284, 2286, 2288, 2400, 2402, 2404, 2406, 2408, 2420, 2422, 2424, 2426, 2428, 2440, 2442, 2444, 2446, 2448, 2460, 2462, 2464, 2466, 2468, 2480, 2482, 2484, 2486, 2488, 2600, 2602, 2604, 2606, 2608, 2620, 2622, 2624, 2626, 2628, 2640, 2642, 2644, 2646, 2648, 2660, 2662, 2664, 2666, 2668, 2680, 2682, 2684, 2686, 2688, 2800, 2802, 2804, 2806, 2808, 2820, 2822, 2824, 2826, 2828, 2840, 2842, 2844, 2846, 2848, 2860, 2862, 2864, 2866, 2868, 2880, 2882, 2884, 2886, 2888]\n"
          ]
        }
      ]
    },
    {
      "cell_type": "markdown",
      "source": [
        "7.Write a python function that accepts a sentence and calculate and return the number of letters and digits.\n",
        "Suppose the following input is supplied to the program:\n",
        "hello world! 123\n",
        "Then, the output should be:\n",
        "LETTERS 10\n",
        "DIGITS 3\n"
      ],
      "metadata": {
        "id": "u85zteRb7JPx"
      }
    },
    {
      "cell_type": "code",
      "source": [
        "phrase = input(\"Type in: \")\n",
        "phrase = list(phrase)\n",
        "\n",
        "l, d = 0, 0\n",
        "for i in phrase:\n",
        "    if i.isalpha():\n",
        "        l = l + 1\n",
        "    if i.isdigit():\n",
        "        d = d + 1\n",
        "    else:\n",
        "        pass\n",
        "\n",
        "print(\"Letters:\", l)\n",
        "print(\"Digits:\", d)"
      ],
      "metadata": {
        "colab": {
          "base_uri": "https://localhost:8080/"
        },
        "id": "ily4a8Ly7S0O",
        "outputId": "4a8053f4-3fa7-4c76-b7a7-f96163599e0c"
      },
      "execution_count": 15,
      "outputs": [
        {
          "output_type": "stream",
          "name": "stdout",
          "text": [
            "Type in: 123cafe\n",
            "Letters: 4\n",
            "Digits: 3\n"
          ]
        }
      ]
    },
    {
      "cell_type": "markdown",
      "source": [
        "8.Write a Python program to convert all the characters into uppercase and lowercase and eliminate duplicate letters from a given sequence. Use the map() function\n"
      ],
      "metadata": {
        "id": "UjMGKiFR79c_"
      }
    },
    {
      "cell_type": "code",
      "source": [
        "def change_cases(s):\n",
        "    return str(s).upper(), str(s).lower()\n",
        "chrars = {'a', 'b', 'E', 'f', 'a', 'i', 'o', 'U', 'a'}\n",
        "result = map(change_cases, chrars)\n",
        "print(\"\\nAfter converting above characters in upper and lower cases\\nand eliminating duplicate letters:\")\n",
        "print(set(result))\n"
      ],
      "metadata": {
        "colab": {
          "base_uri": "https://localhost:8080/"
        },
        "id": "eYdt3djA8CeV",
        "outputId": "3f36f6a3-25f1-4a13-fbe1-0cbb189f8727"
      },
      "execution_count": 2,
      "outputs": [
        {
          "output_type": "stream",
          "name": "stdout",
          "text": [
            "\n",
            "After converting above characters in upper and lower cases\n",
            "and eliminating duplicate letters:\n",
            "{('A', 'a'), ('O', 'o'), ('U', 'u'), ('E', 'e'), ('B', 'b'), ('F', 'f'), ('I', 'i')}\n"
          ]
        }
      ]
    },
    {
      "cell_type": "markdown",
      "source": [
        "9.Write a Python program to element wise add two given lists and find the difference between them. Use the map() function\n"
      ],
      "metadata": {
        "id": "ghd6eWvRBwu3"
      }
    },
    {
      "cell_type": "code",
      "source": [
        "nums1 = [1, 2, 3]\n",
        "nums2 = [4, 5, 6]\n",
        "print(\"Original list:\")\n",
        "print(nums1)\n",
        "print(nums2)\n",
        "result = map(lambda x, y: x + y, nums1, nums2)\n",
        "result1 = map(lambda x, y: x - y, nums1, nums2)\n",
        "print(\"\\nResult: After adding two lists\")\n",
        "print(list(result))\n",
        "print(\"\\nResult: After subtracting two lists\")\n",
        "print(list(result1))"
      ],
      "metadata": {
        "colab": {
          "base_uri": "https://localhost:8080/"
        },
        "id": "KB4RVacgCdA4",
        "outputId": "6286ab94-572f-4ef4-db49-07fae34fd359"
      },
      "execution_count": 6,
      "outputs": [
        {
          "output_type": "stream",
          "name": "stdout",
          "text": [
            "Original list:\n",
            "[1, 2, 3]\n",
            "[4, 5, 6]\n",
            "\n",
            "Result: After adding two lists\n",
            "[5, 7, 9]\n",
            "\n",
            "Result: After subtracting two lists\n",
            "[-3, -3, -3]\n"
          ]
        }
      ]
    },
    {
      "cell_type": "markdown",
      "source": [
        "10.Write a Python program to filter the height and weight of students, which are stored in a dictionary using lambda.\n",
        "Original Dictionary:\n",
        "{'Cierra Vega': (6.2, 71), 'Alden Cantrell': (5.9, 65), 'Kierra Gentry': (6.0, 68), 'Pierre Cox': (5.8, 66)}\n",
        "Height> 6ft and Weight> 70kg:\n",
        "{'Cierra Vega': (6.2, 71)}\n"
      ],
      "metadata": {
        "id": "xC_yMnW7FX3e"
      }
    },
    {
      "cell_type": "code",
      "source": [
        "def filter_data(students):\n",
        "  result = dict(filter(lambda x: (x[1][0], x[1][1]) > (6.0, 70), students.items()))\n",
        "  return result\n",
        "\n",
        "students = {\n",
        "    'Cierra Vega': (6.2, 71),\n",
        "    'Alden Cantrell': (5.9, 65),\n",
        "    'Kierra Gentry': (6.0, 68),\n",
        "    'Pierre Cox': (5.8, 66)\n",
        "}\n",
        "\n",
        "print(\"Original Dictionary:\")\n",
        "print(students)\n",
        "print(\"\\nHeight > 6ft and Weight > 70kg:\")\n",
        "print(filter_data(students))"
      ],
      "metadata": {
        "colab": {
          "base_uri": "https://localhost:8080/"
        },
        "id": "R6F-XWWEG5Qx",
        "outputId": "c634bc7d-0bb5-4f29-ecff-b0c1d9793216"
      },
      "execution_count": 3,
      "outputs": [
        {
          "output_type": "stream",
          "name": "stdout",
          "text": [
            "Original Dictionary:\n",
            "{'Cierra Vega': (6.2, 71), 'Alden Cantrell': (5.9, 65), 'Kierra Gentry': (6.0, 68), 'Pierre Cox': (5.8, 66)}\n",
            "\n",
            "Height > 6ft and Weight > 70kg:\n",
            "{'Cierra Vega': (6.2, 71)}\n"
          ]
        }
      ]
    },
    {
      "cell_type": "markdown",
      "source": [
        "11.Write a Python program to remove all elements from a given list present in another list using lambda.\n",
        "Original lists:\n",
        "list1: [1, 2, 3, 4, 5, 6, 7, 8, 9, 10]\n",
        "list2: [2, 4, 6, 8]\n",
        "Remove all elements from 'list1' present in 'list2:\n",
        "[1, 3, 5, 7, 9, 10]\n"
      ],
      "metadata": {
        "id": "4lEbyXEJMMSH"
      }
    },
    {
      "cell_type": "code",
      "source": [
        "def index_on_inner_list(list1, list2):\n",
        "  result = list(filter(lambda x: x not in list2, list1))\n",
        "  return result\n",
        "list1 = [1, 2, 3, 4, 5, 6, 7, 8, 9, 10]\n",
        "list2 = [2, 4, 6, 8]\n",
        "print(\"List 1:\",list1)\n",
        "print(\"List 2:\",list2)\n",
        "print(\"\\nRemoving all elements from 'list1' present in 'list2':\")\n",
        "print(index_on_inner_list(list1, list2))"
      ],
      "metadata": {
        "colab": {
          "base_uri": "https://localhost:8080/"
        },
        "id": "RRk5OkdRNxWE",
        "outputId": "4f4e2afa-be1f-4e86-97d0-288b1980d1e2"
      },
      "execution_count": 5,
      "outputs": [
        {
          "output_type": "stream",
          "name": "stdout",
          "text": [
            "List 1: [1, 2, 3, 4, 5, 6, 7, 8, 9, 10]\n",
            "List 2: [2, 4, 6, 8]\n",
            "\n",
            "Removing all elements from 'list1' present in 'list2':\n",
            "[1, 3, 5, 7, 9, 10]\n"
          ]
        }
      ]
    },
    {
      "cell_type": "markdown",
      "source": [
        "12.Write a Python program to calculate the product of a given list of numbers using lambda.\n",
        "list1: [1, 2, 3, 4, 5, 6, 7, 8, 9, 10]\n",
        "Product of the said list numbers:\n",
        "3628800\n"
      ],
      "metadata": {
        "id": "xZGQ9bOSO0v9"
      }
    },
    {
      "cell_type": "code",
      "source": [
        "import functools\n",
        "def remove_duplicates(nums):\n",
        "  result = functools.reduce(lambda x, y: x * y, nums, 1)\n",
        "  return result\n",
        "nums = [1, 2, 3, 4, 5, 6, 7, 8, 9, 10]\n",
        "print(\"List :\", nums)\n",
        "print(\"Product of the said list numbers:\")\n",
        "print(remove_duplicates(nums))"
      ],
      "metadata": {
        "colab": {
          "base_uri": "https://localhost:8080/"
        },
        "id": "8GQ08Ql4PALq",
        "outputId": "49bafb65-5982-4ed0-8cee-7fb1bd5aba3d"
      },
      "execution_count": 8,
      "outputs": [
        {
          "output_type": "stream",
          "name": "stdout",
          "text": [
            "List : [1, 2, 3, 4, 5, 6, 7, 8, 9, 10]\n",
            "Product of the said list numbers:\n",
            "3628800\n"
          ]
        }
      ]
    },
    {
      "cell_type": "markdown",
      "source": [
        "13. Write a Python program to multiply all the numbers in a given list using lambda.\n",
        "Original list:\n",
        "[4, 3, 2, 2, -1, 18]\n",
        "Mmultiply all the numbers of the said list: -864\n"
      ],
      "metadata": {
        "id": "BEKKrDsIQU-V"
      }
    },
    {
      "cell_type": "code",
      "source": [
        "from functools import reduce\n",
        "def mutiple_list(nums):\n",
        "  result = reduce(lambda x, y: x * y, nums)\n",
        "  return result\n",
        "nums = [4, 3, 2, 2, -1, 18]\n",
        "print(\"Original list:\",nums)\n",
        "print(\"Multiply all the numbers of the said list:\", mutiple_list(nums))"
      ],
      "metadata": {
        "colab": {
          "base_uri": "https://localhost:8080/"
        },
        "id": "DzyyIFL9QuJH",
        "outputId": "19428b22-daea-46f6-e1a7-bab7faa48c66"
      },
      "execution_count": 9,
      "outputs": [
        {
          "output_type": "stream",
          "name": "stdout",
          "text": [
            "Original list: [4, 3, 2, 2, -1, 18]\n",
            "Multiply all the numbers of the said list: -864\n"
          ]
        }
      ]
    },
    {
      "cell_type": "markdown",
      "source": [
        "14.Write a Python program to calculate the average value of the numbers in a given tuple of tuples using lambda.\n",
        "Original Tuple:\n",
        "((10, 10, 10), (30, 45, 56), (81, 80, 39), (1, 2, 3))\n",
        "Average value of the numbers of the said tuple of tuples:\n",
        "(30.5, 34.25, 27.0)\n"
      ],
      "metadata": {
        "id": "PCmMD4opRSJW"
      }
    },
    {
      "cell_type": "code",
      "source": [
        "def average_tuple(nums):\n",
        "  result = tuple(map(lambda x: sum(x) / float(len(x)), zip(*nums)))\n",
        "  return result\n",
        "nums = ((10, 10, 10), (30, 45, 56), (81, 80, 39), (1, 2, 3))\n",
        "print(\"Original Tuple:\",nums)\n",
        "print(\"\\nAverage value of the numbers of the said tuple of tuples:\\n\", average_tuple(nums))"
      ],
      "metadata": {
        "colab": {
          "base_uri": "https://localhost:8080/"
        },
        "id": "F2MzraznRsYp",
        "outputId": "b273f87f-bbb3-4f9d-dd2f-653efe582a17"
      },
      "execution_count": 10,
      "outputs": [
        {
          "output_type": "stream",
          "name": "stdout",
          "text": [
            "Original Tuple: ((10, 10, 10), (30, 45, 56), (81, 80, 39), (1, 2, 3))\n",
            "\n",
            "Average value of the numbers of the said tuple of tuples:\n",
            " (30.5, 34.25, 27.0)\n"
          ]
        }
      ]
    },
    {
      "cell_type": "markdown",
      "source": [
        "15.Write a Python program to sort a given mixed list of integers and strings using lambda. Numbers must be sorted before strings.\n",
        "Original list:\n",
        "[19, 'red', 12, 'green', 'blue', 10, 'white', 'green', 1]\n",
        "Sort the said mixed list of integers and strings:\n",
        "[1, 10, 12, 19, 'blue', 'green', 'green', 'red', 'white']\n"
      ],
      "metadata": {
        "id": "7k5pbJ1oSJBt"
      }
    },
    {
      "cell_type": "code",
      "source": [
        "def sort_mixed_list(mixed_list):\n",
        "   mixed_list.sort(key=lambda e: (isinstance(e, str), e))\n",
        "   return mixed_list\n",
        "mixed_list = [19, 'red', 12, 'green', 'blue', 10, 'white', 'green', 1]\n",
        "print(\"Original list:\",mixed_list)\n",
        "print(\"\\nSort the said mixed list of integers and strings:\",sort_mixed_list(mixed_list))"
      ],
      "metadata": {
        "colab": {
          "base_uri": "https://localhost:8080/"
        },
        "id": "lAbBnys3SIjy",
        "outputId": "18c8ac14-6cc9-4386-c298-61358e19b5d8"
      },
      "execution_count": 14,
      "outputs": [
        {
          "output_type": "stream",
          "name": "stdout",
          "text": [
            "Original list: [19, 'red', 12, 'green', 'blue', 10, 'white', 'green', 1]\n",
            "\n",
            "Sort the said mixed list of integers and strings: [1, 10, 12, 19, 'blue', 'green', 'green', 'red', 'white']\n"
          ]
        }
      ]
    },
    {
      "cell_type": "markdown",
      "source": [
        "16.Write a Python program to count the occurrences of items in a given list using lambda.\n",
        "Original list:\n",
        "[3, 4, 5, 8, 0, 3, 8, 5, 0, 3, 1, 5, 2, 3, 4, 2]\n",
        "Count the occurrences of the items in the said list:\n",
        "{3: 4, 4: 2, 5: 3, 8: 2, 0: 2, 1: 1, 2: 2}\n"
      ],
      "metadata": {
        "id": "xXwAJRo1Teya"
      }
    },
    {
      "cell_type": "code",
      "source": [
        "def count_occurrences(nums):\n",
        "  result = dict(map(lambda el: (el, list(nums).count(el)), nums))\n",
        "  return result\n",
        "nums = [3, 4, 5, 8, 0, 3, 8, 5, 0, 3, 1, 5, 2, 3, 4, 2]\n",
        "print(\"Original list:\",nums)\n",
        "print(\"\\nCount the occurrences of the items in the said list:\",count_occurrences(nums))\n"
      ],
      "metadata": {
        "colab": {
          "base_uri": "https://localhost:8080/"
        },
        "id": "qwj2YnIATn9Q",
        "outputId": "f499b342-93cd-43ac-d2c3-8f5465dde7f5"
      },
      "execution_count": 15,
      "outputs": [
        {
          "output_type": "stream",
          "name": "stdout",
          "text": [
            "Original list: [3, 4, 5, 8, 0, 3, 8, 5, 0, 3, 1, 5, 2, 3, 4, 2]\n",
            "\n",
            "Count the occurrences of the items in the said list: {3: 4, 4: 2, 5: 3, 8: 2, 0: 2, 1: 1, 2: 2}\n"
          ]
        }
      ]
    },
    {
      "cell_type": "markdown",
      "source": [
        "17.Write a Python program to remove None values from a given list using the lambda function.\n",
        "Original list:\n",
        "[12, 0, None, 23, None, -55, 234, 89, None, 0, 6, -12]\n",
        "Remove None value from the said list:\n",
        "[12, 0, 23, -55, 234, 89, 0, 6, -12]\n"
      ],
      "metadata": {
        "id": "UHpry-4OUdaw"
      }
    },
    {
      "cell_type": "code",
      "source": [
        "def remove_none(nums):\n",
        "    result = filter(lambda v: v is not None, nums)\n",
        "    return list(result)\n",
        "\n",
        "nums = [12, 0, None, 23, None, -55, 234, 89, None, 0, 6, -12]\n",
        "print(\"Original list:\",nums)\n",
        "print(\"\\nRemove None value from the said list:\",remove_none(nums))\n"
      ],
      "metadata": {
        "colab": {
          "base_uri": "https://localhost:8080/"
        },
        "id": "45luvz8KUzB9",
        "outputId": "3649743b-ebd5-4252-8c34-3158d9372369"
      },
      "execution_count": 17,
      "outputs": [
        {
          "output_type": "stream",
          "name": "stdout",
          "text": [
            "Original list: [12, 0, None, 23, None, -55, 234, 89, None, 0, 6, -12]\n",
            "\n",
            "Remove None value from the said list: [12, 0, 23, -55, 234, 89, 0, 6, -12]\n"
          ]
        }
      ]
    }
  ]
}