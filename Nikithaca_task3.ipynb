{
  "nbformat": 4,
  "nbformat_minor": 0,
  "metadata": {
    "colab": {
      "provenance": []
    },
    "kernelspec": {
      "name": "python3",
      "display_name": "Python 3"
    },
    "language_info": {
      "name": "python"
    }
  },
  "cells": [
    {
      "cell_type": "markdown",
      "source": [
        "1.  Write a Python program to create a class representing a Circle. Include methods to calculate its area and perimeter."
      ],
      "metadata": {
        "id": "TNeWYYSxhaGQ"
      }
    },
    {
      "cell_type": "code",
      "execution_count": null,
      "metadata": {
        "colab": {
          "base_uri": "https://localhost:8080/"
        },
        "id": "j4IDxT3AhTs-",
        "outputId": "b63d615a-5734-4c9b-aaef-74ae80636073"
      },
      "outputs": [
        {
          "output_type": "stream",
          "name": "stdout",
          "text": [
            "Input the radius of the circle: 3\n",
            "Area of the circle: 28.274333882308138\n",
            "Perimeter of the circle: 18.84955592153876\n"
          ]
        }
      ],
      "source": [
        "import math\n",
        "class Circle:\n",
        "    def __init__(self, radius):\n",
        "        self.radius = radius\n",
        "\n",
        "    def calculate_circle_area(self):\n",
        "        return math.pi * self.radius**2\n",
        "\n",
        "    def calculate_circle_perimeter(self):\n",
        "        return 2 * math.pi * self.radius\n",
        "\n",
        "radius = float(input(\"Input the radius of the circle: \"))\n",
        "circle = Circle(radius)\n",
        "area = circle.calculate_circle_area()\n",
        "perimeter = circle.calculate_circle_perimeter()\n",
        "print(\"Area of the circle:\", area)\n",
        "print(\"Perimeter of the circle:\", perimeter)\n"
      ]
    },
    {
      "cell_type": "markdown",
      "source": [
        "2. Write a Python program to create a calculator class. Include methods for basic arithmetic operations.\n"
      ],
      "metadata": {
        "id": "oEpsx3lRiotO"
      }
    },
    {
      "cell_type": "code",
      "source": [
        "class Calculator:\n",
        "    def add(self, x, y):\n",
        "        return x + y\n",
        "\n",
        "    def subtract(self, x, y):\n",
        "        return x - y\n",
        "\n",
        "    def multiply(self, x, y):\n",
        "        return x * y\n",
        "\n",
        "    def divide(self, x, y):\n",
        "        if y != 0:\n",
        "            return x / y\n",
        "        else:\n",
        "            return (\"Cannot divide by zero.\")\n",
        "\n",
        "calculator = Calculator()\n",
        "\n",
        "result = calculator.add(7, 5)\n",
        "print(\"7 + 5 =\", result)\n",
        "\n",
        "result = calculator.subtract(34, 21)\n",
        "print(\"34 - 21 =\", result)\n",
        "\n",
        "result = calculator.multiply(54, 2)\n",
        "print(\"54 * 2 =\", result)\n",
        "\n",
        "result = calculator.divide(144, 2)\n",
        "print(\"144 / 2 =\", result)\n",
        "\n",
        "result = calculator.divide(45, 0)\n",
        "print(\"45 / 0 =\", result)"
      ],
      "metadata": {
        "colab": {
          "base_uri": "https://localhost:8080/"
        },
        "id": "7ZQ3g7LQitOF",
        "outputId": "a5866601-c55e-4cc7-e8a9-1d71c439b7dd"
      },
      "execution_count": null,
      "outputs": [
        {
          "output_type": "stream",
          "name": "stdout",
          "text": [
            "7 + 5 = 12\n",
            "34 - 21 = 13\n",
            "54 * 2 = 108\n",
            "144 / 2 = 72.0\n",
            "45 / 0 = Cannot divide by zero.\n"
          ]
        }
      ]
    },
    {
      "cell_type": "markdown",
      "source": [
        "3. Write a Python program to create a class that represents a shape. Include methods to calculate its area and perimeter. Implement subclasses for different shapes like circle, triangle, and square.\n"
      ],
      "metadata": {
        "id": "5EynMw85j_cq"
      }
    },
    {
      "cell_type": "code",
      "source": [
        "import math\n",
        "class Shape:\n",
        "\n",
        "    def calculate_area(self):\n",
        "        pass\n",
        "    def calculate_perimeter(self):\n",
        "        pass\n",
        "\n",
        "class Circle(Shape):\n",
        "\n",
        "    def __init__(self, radius):\n",
        "        self.radius = radius\n",
        "\n",
        "    def calculate_area(self):\n",
        "        return math.pi * self.radius**2\n",
        "\n",
        "    def calculate_perimeter(self):\n",
        "        return 2 * math.pi * self.radius\n",
        "\n",
        "class Rectangle(Shape):\n",
        "\n",
        "    def __init__(self, length, width):\n",
        "        self.length = length\n",
        "        self.width = width\n",
        "\n",
        "    def calculate_area(self):\n",
        "        return self.length * self.width\n",
        "\n",
        "    def calculate_perimeter(self):\n",
        "        return 2 * (self.length + self.width)\n",
        "\n",
        "class Triangle(Shape):\n",
        "\n",
        "    def __init__(self, base, height, side1, side2, side3):\n",
        "        self.base = base\n",
        "        self.height = height\n",
        "        self.side1 = side1\n",
        "        self.side2 = side2\n",
        "        self.side3 = side3\n",
        "\n",
        "    def calculate_area(self):\n",
        "        return 0.5 * self.base * self.height\n",
        "\n",
        "    def calculate_perimeter(self):\n",
        "        return self.side1 + self.side2 + self.side3\n",
        "\n",
        "\n",
        "r = 7\n",
        "circle = Circle(r)\n",
        "circle_area = circle.calculate_area()\n",
        "circle_perimeter = circle.calculate_perimeter()\n",
        "\n",
        "print(\"Radius of the circle:\", r)\n",
        "print(\"Circle Area:\", circle_area)\n",
        "print(\"Circle Perimeter:\", circle_perimeter)\n",
        "\n",
        "l = 5\n",
        "w = 7\n",
        "rectangle = Rectangle(l, w)\n",
        "rectangle_area = rectangle.calculate_area()\n",
        "rectangle_perimeter = rectangle.calculate_perimeter()\n",
        "print(\"\\nRectangle: Length =\", l, \" Width =\", w)\n",
        "print(\"Rectangle Area:\", rectangle_area)\n",
        "print(\"Rectangle Perimeter:\", rectangle_perimeter)\n",
        "\n",
        "base = 5\n",
        "height = 4\n",
        "s1 = 4\n",
        "s2 = 3\n",
        "s3 = 5\n",
        "\n",
        "print(\"\\nTriangle: Base =\", base, \" Height =\", height, \" side1 =\", s1, \" side2 =\", s2, \" side3 =\", s3)\n",
        "triangle = Triangle(base, height, s1, s2, s3)\n",
        "triangle_area = triangle.calculate_area()\n",
        "triangle_perimeter = triangle.calculate_perimeter()\n",
        "print(\"Triangle Area:\", triangle_area)\n",
        "print(\"Triangle Perimeter:\", triangle_perimeter)"
      ],
      "metadata": {
        "colab": {
          "base_uri": "https://localhost:8080/"
        },
        "id": "GQV-Ns6pkCrc",
        "outputId": "6d477b62-2672-4cf0-f0ab-c8ad3dfb80e4"
      },
      "execution_count": null,
      "outputs": [
        {
          "output_type": "stream",
          "name": "stdout",
          "text": [
            "Radius of the circle: 7\n",
            "Circle Area: 153.93804002589985\n",
            "Circle Perimeter: 43.982297150257104\n",
            "\n",
            "Rectangle: Length = 5  Width = 7\n",
            "Rectangle Area: 35\n",
            "Rectangle Perimeter: 24\n",
            "\n",
            "Triangle: Base = 5  Height = 4  side1 = 4  side2 = 3  side3 = 5\n",
            "Triangle Area: 10.0\n",
            "Triangle Perimeter: 12\n"
          ]
        }
      ]
    }
  ]
}